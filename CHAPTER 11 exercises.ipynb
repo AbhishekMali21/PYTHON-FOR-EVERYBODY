{
 "cells": [
  {
   "cell_type": "markdown",
   "metadata": {},
   "source": [
    "# CHAPTER 11 exercises"
   ]
  },
  {
   "cell_type": "markdown",
   "metadata": {},
   "source": [
    "**Exercise 1: Write a simple program to simulate the operation of the grep command\n",
    "on Unix. Ask the user to enter a regular expression and count the number\n",
    "of lines that matched the regular expression:**\n",
    "\n",
    "$ python grep.py\n",
    "\n",
    "Enter a regular expression: ^Author\n",
    "\n",
    "mbox.txt had 1798 lines that matched ^Author\n",
    "\n",
    "$ python grep.py\n",
    "\n",
    "Enter a regular expression: ^X\n",
    "\n",
    "mbox.txt had 14368 lines that matched ^X\n",
    "\n",
    "$ python grep.py\n",
    "\n",
    "Enter a regular expression: java$\n",
    "\n",
    "mbox.txt had 4218 lines that matched java$"
   ]
  },
  {
   "cell_type": "code",
   "execution_count": 1,
   "metadata": {},
   "outputs": [
    {
     "name": "stdout",
     "output_type": "stream",
     "text": [
      "Enter file name: mbox.txt\n",
      "Enter a regular expression: ^X\n",
      "mbox.txt had 14368 lines that matched ^X\n"
     ]
    }
   ],
   "source": [
    "import re\n",
    "try:\n",
    "    fhand = input ('Enter file name: ')\n",
    "    grep = input ('Enter a regular expression: ')\n",
    "    hand = open(fhand, encoding = 'utf8')\n",
    "    count = 0\n",
    "    for line in hand:\n",
    "        line = line.rstrip()\n",
    "        x = re.findall(grep, line)\n",
    "        if len(x) > 0:\n",
    "            count +=1\n",
    "    print (str(fhand) + \" had \" + str(count) + \" lines that matched \" + str (grep))\n",
    "\n",
    "except:\n",
    "    print ('Incorrect file or regular expression')"
   ]
  },
  {
   "cell_type": "code",
   "execution_count": 2,
   "metadata": {},
   "outputs": [
    {
     "name": "stdout",
     "output_type": "stream",
     "text": [
      "Enter file name: mbox.txt\n",
      "Enter a regular expression: java$\n",
      "mbox.txt had 4218 lines that matched java$\n"
     ]
    }
   ],
   "source": []
  },
  {
   "cell_type": "code",
   "execution_count": 3,
   "metadata": {},
   "outputs": [
    {
     "name": "stdout",
     "output_type": "stream",
     "text": [
      "Enter file name: mbox.txt\n",
      "Enter a regular expression: ^Author\n",
      "mbox.txt had 1798 lines that matched ^Author\n"
     ]
    }
   ],
   "source": []
  },
  {
   "cell_type": "markdown",
   "metadata": {},
   "source": [
    "**Exercise 2: Write a program to look for lines of the form\n",
    "`New Revision: 39772`\n",
    "and extract the number from each of the lines using a regular expression and\n",
    "the findall() method. Compute the average of the numbers and print out the\n",
    "average.**\n",
    "\n",
    "Enter file:mbox.txt\n",
    "\n",
    "38549.7949721\n",
    "\n",
    "Enter file:mbox-short.txt\n",
    "\n",
    "39756.9259259"
   ]
  },
  {
   "cell_type": "code",
   "execution_count": 4,
   "metadata": {},
   "outputs": [
    {
     "name": "stdout",
     "output_type": "stream",
     "text": [
      "Enter file: mbox.txt\n",
      "38549.79497206704\n"
     ]
    }
   ],
   "source": [
    "import re\n",
    "fhand = input ('Enter file: ')\n",
    "hand = open(fhand, encoding = 'utf8')\n",
    "count = 0\n",
    "sum = 0\n",
    "for line in hand:\n",
    "    line = line.rstrip()\n",
    "    x = re.findall('New Revision: ([0-9][0-9][0-9][0-9][0-9]$)', line)\n",
    "    if len(x) > 0: \n",
    "        count += 1\n",
    "        sum = sum + float(x[0])\n",
    "print (sum/count)"
   ]
  },
  {
   "cell_type": "code",
   "execution_count": 5,
   "metadata": {},
   "outputs": [
    {
     "name": "stdout",
     "output_type": "stream",
     "text": [
      "Enter file: mbox-short.txt\n",
      "39756.92592592593\n"
     ]
    }
   ],
   "source": []
  }
 ],
 "metadata": {
  "kernelspec": {
   "display_name": "Python 3",
   "language": "python",
   "name": "python3"
  },
  "language_info": {
   "codemirror_mode": {
    "name": "ipython",
    "version": 3
   },
   "file_extension": ".py",
   "mimetype": "text/x-python",
   "name": "python",
   "nbconvert_exporter": "python",
   "pygments_lexer": "ipython3",
   "version": "3.7.1"
  }
 },
 "nbformat": 4,
 "nbformat_minor": 2
}
