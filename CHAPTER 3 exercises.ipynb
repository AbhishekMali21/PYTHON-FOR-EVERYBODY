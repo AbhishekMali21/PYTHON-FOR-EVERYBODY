{
 "cells": [
  {
   "cell_type": "markdown",
   "metadata": {},
   "source": [
    "# CHAPTER 3 - EXERCISES"
   ]
  },
  {
   "cell_type": "markdown",
   "metadata": {},
   "source": [
    "#### Exercise 1: Rewrite your pay computation to give the employee 1.5 times the hourly rate for hours worked above 40 hours.\n",
    "\n",
    "Enter Hours: 45\n",
    "\n",
    "Enter Rate: 10\n",
    "\n",
    "Pay: 475.0"
   ]
  },
  {
   "cell_type": "code",
   "execution_count": 1,
   "metadata": {},
   "outputs": [
    {
     "name": "stdout",
     "output_type": "stream",
     "text": [
      "Enter Hours: 45\n",
      "Enter Rate: 10\n",
      "Pay:  475.0\n"
     ]
    }
   ],
   "source": [
    "hours = float (input ('Enter Hours: '))\n",
    "rate = float (input ('Enter Rate: '))\n",
    "if hours > 40:\n",
    "    pay = (40 * rate) + (hours-40) * rate * 1.5\n",
    "else:\n",
    "    pay = hours * rate\n",
    "print (\"Pay: \",pay)"
   ]
  },
  {
   "cell_type": "markdown",
   "metadata": {},
   "source": [
    "**Exercise 2: Rewrite your pay program using try and except so that your program handles non-numeric input gracefully by printing a message and exiting the program. The following shows two executions of the program:**\n",
    "\n",
    "\n",
    "* Enter Hours: 20\n",
    "\n",
    "Enter Rate: nine\n",
    "\n",
    "Error, please enter numeric input\n",
    "\n",
    "\n",
    "* Enter Hours: forty\n",
    "\n",
    "Error, please enter numeric input"
   ]
  },
  {
   "cell_type": "code",
   "execution_count": 2,
   "metadata": {},
   "outputs": [
    {
     "name": "stdout",
     "output_type": "stream",
     "text": [
      "Enter Hours: 20\n",
      "Enter Rate: nine\n",
      "ERROR, Please enter numeric input\n"
     ]
    }
   ],
   "source": [
    "try:\n",
    "    hours = float (input ('Enter Hours: '))\n",
    "    rate = float (input ('Enter Rate: '))\n",
    "    if hours > 40:\n",
    "        pay = (40 * rate) + (hours-40) * rate * 1.5\n",
    "    else:\n",
    "        pay = hours * rate\n",
    "    print (\"Pay: \",pay)\n",
    "except:\n",
    "    print ('ERROR, Please enter numeric input')"
   ]
  },
  {
   "cell_type": "markdown",
   "metadata": {},
   "source": [
    "**Exercise 3: Write a program to prompt for a score between 0.0 and 1.0. If the\n",
    "score is out of range, print an error message. If the score is between 0.0 and 1.0,\n",
    "print a grade using the following table:**\n",
    "\n",
    "|Score |Grade|\n",
    "\n",
    "|>= 0.9 |A|\n",
    "\n",
    "|>= 0.8 |B|\n",
    "\n",
    "|>= 0.7 |C|\n",
    "\n",
    "|>= 0.6 |D|\n",
    "\n",
    "|< 0.6 |F|\n",
    "\n",
    "Enter score: 0.95\n",
    "A\n",
    "\n",
    "Enter score: perfect\n",
    "Bad score\n",
    "\n",
    "Enter score: 10.0\n",
    "Bad score\n",
    "\n",
    "Enter score: 0.75\n",
    "C\n",
    "\n",
    "Enter score: 0.5\n",
    "F\n",
    "\n",
    "Run the program repeatedly as shown above to test the various different values for input."
   ]
  },
  {
   "cell_type": "code",
   "execution_count": 3,
   "metadata": {},
   "outputs": [
    {
     "name": "stdout",
     "output_type": "stream",
     "text": [
      "Enter score:0.87\n",
      "B\n"
     ]
    }
   ],
   "source": [
    "score = float (input ('Enter score:'))\n",
    "if score >=0.9 and score <= 1.0:\n",
    "    print (\"A\")\n",
    "elif score >=0.8 and score < 0.9:\n",
    "    print (\"B\")\n",
    "elif score >=0.7 and score < 0.8:\n",
    "    print (\"C\")\n",
    "elif score >=0.6 and score < 0.7:\n",
    "    print (\"D\")\n",
    "elif score >=0.0 and score < 0.6:\n",
    "    print (\"F\")\n",
    "else:\n",
    "    print (\"Bad score\")"
   ]
  }
 ],
 "metadata": {
  "kernelspec": {
   "display_name": "Python 3",
   "language": "python",
   "name": "python3"
  },
  "language_info": {
   "codemirror_mode": {
    "name": "ipython",
    "version": 3
   },
   "file_extension": ".py",
   "mimetype": "text/x-python",
   "name": "python",
   "nbconvert_exporter": "python",
   "pygments_lexer": "ipython3",
   "version": "3.7.1"
  }
 },
 "nbformat": 4,
 "nbformat_minor": 2
}
