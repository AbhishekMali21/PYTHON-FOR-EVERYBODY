{
 "cells": [
  {
   "cell_type": "markdown",
   "metadata": {},
   "source": [
    "# CHAPTER 9 exercises"
   ]
  },
  {
   "cell_type": "markdown",
   "metadata": {},
   "source": [
    "**Exercise 1: [wordlist2]**\n",
    "\n",
    "**Write a program that reads the words in words.txt and stores them as keys in\n",
    "a dictionary. It doesn’t matter what the values are. Then you can use the in\n",
    "operator as a fast way to check whether a string is in the dictionary.**"
   ]
  },
  {
   "cell_type": "code",
   "execution_count": 1,
   "metadata": {},
   "outputs": [
    {
     "name": "stdout",
     "output_type": "stream",
     "text": [
      "{'Writing': 1, 'programs': 2, 'or': 1, 'programming': 1, 'is': 2, 'a': 3, 'very': 2, 'creative': 1, 'and': 5, 'rewarding': 1, 'activity': 1, 'You': 1, 'can': 4, 'write': 1, 'for': 1, 'many': 2, 'reasons': 1, 'ranging': 2, 'from': 2, 'making': 1, 'your': 2, 'living': 1, 'to': 16, 'solving': 1, 'difficult': 1, 'data': 1, 'analysis': 1, 'problem': 2, 'having': 1, 'fun': 1, 'helping': 1, 'someone': 1, 'else': 1, 'solve': 1, 'This': 1, 'book': 1, 'assumes': 1, 'that': 4, '{\\\\em': 1, 'everyone}': 1, 'needs': 1, 'know': 2, 'how': 2, 'program': 1, 'once': 1, 'you': 4, 'program,': 1, 'will': 1, 'figure': 1, 'out': 1, 'what': 2, 'want': 1, 'do': 5, 'with': 2, 'newfound': 1, 'skills': 1, 'We': 2, 'are': 3, 'surrounded': 1, 'in': 2, 'our': 5, 'daily': 1, 'lives': 1, 'computers': 5, 'laptops': 1, 'cell': 1, 'phones': 1, 'think': 1, 'of': 5, 'these': 1, 'as': 1, 'personal': 1, 'assistants': 1, 'who': 1, 'take': 1, 'care': 1, 'things': 3, 'on': 2, 'behalf': 2, 'The': 1, 'hardware': 1, 'current-day': 1, 'essentially': 1, 'built': 1, 'continuously': 1, 'ask': 1, 'us': 2, 'the': 6, 'question': 1, 'What': 1, 'would': 2, 'like': 2, 'me': 1, 'next': 2, 'Our': 1, 'fast': 1, 'have': 1, 'vasts': 1, 'amounts': 1, 'memory': 1, 'could': 2, 'be': 1, 'helpful': 1, 'if': 1, 'we': 5, 'only': 1, 'knew': 2, 'language': 2, 'speak': 1, 'explain': 1, 'computer': 2, 'it': 1, 'If': 1, 'this': 1, 'tell': 1, 'tasks': 1, 'were': 1, 'reptitive': 1, 'Interestingly,': 1, 'kinds': 2, 'best': 1, 'often': 1, 'humans': 1, 'find': 1, 'boring': 1, 'mind-numbing': 1}\n"
     ]
    }
   ],
   "source": [
    "d = dict()\n",
    "fhand = open('words.txt') \n",
    "for line in fhand:\n",
    "    words = line.split()\n",
    "    for word in words :\n",
    "        if word not in d: \n",
    "            d[word] = 1\n",
    "        else:\n",
    "            d[word] = d[word] + 1\n",
    "print(d)"
   ]
  },
  {
   "cell_type": "markdown",
   "metadata": {},
   "source": [
    "**Exercise 2:**\n",
    "\n",
    "**Write a program that categorizes each mail message by which day of\n",
    "the week the commit was done. To do this look for lines that start with “From”,\n",
    "then look for the third word and keep a running count of each of the days of the\n",
    "week. At the end of the program print out the contents of your dictionary (order\n",
    "does not matter).**\n",
    "\n",
    "Sample Line:\n",
    "From stephen.marquard@uct.ac.za Sat Jan 5 09:14:16 2008\n",
    "\n",
    "Sample Execution:\n",
    "\n",
    "python dow.py\n",
    "\n",
    "Enter a file name: mbox-short.txt\n",
    "\n",
    "{'Fri': 20, 'Thu': 6, 'Sat': 1}"
   ]
  },
  {
   "cell_type": "code",
   "execution_count": 2,
   "metadata": {},
   "outputs": [
    {
     "name": "stdout",
     "output_type": "stream",
     "text": [
      "Enter a file name: mbox-short.txt\n",
      "{'Sat': 1, 'Fri': 20, 'Thu': 6}\n"
     ]
    }
   ],
   "source": [
    "fname = input('Enter a file name: ')\n",
    "fhand = open(fname) \n",
    "counts = dict()\n",
    "for line in fhand:\n",
    "    words = line.split()\n",
    "    if len(words) < 3 or  words[0] != 'From' : continue\n",
    "    days = words[2]\n",
    "    days = days.split()\n",
    "    for day in days :\n",
    "        if day not in counts: \n",
    "            counts[day] = 1\n",
    "        else:\n",
    "            counts[day] +=1\n",
    "print(counts)"
   ]
  },
  {
   "cell_type": "code",
   "execution_count": 3,
   "metadata": {},
   "outputs": [
    {
     "name": "stdout",
     "output_type": "stream",
     "text": [
      "Enter a file name: mbox.txt\n",
      "{'Sat': 61, 'Fri': 315, 'Thu': 392, 'Wed': 292, 'Tue': 372, 'Mon': 299, 'Sun': 66}\n"
     ]
    }
   ],
   "source": []
  },
  {
   "cell_type": "code",
   "execution_count": 4,
   "metadata": {},
   "outputs": [
    {
     "name": "stdout",
     "output_type": "stream",
     "text": [
      "Enter the file name: mbox-short.txt\n",
      "{'Sat': 1, 'Fri': 20, 'Thu': 6}\n"
     ]
    }
   ],
   "source": [
    "fname = input('Enter the file name: ')\n",
    "try:\n",
    "    fhand = open(fname)\n",
    "except:\n",
    "    print('File cannot be opened:', fname)\n",
    "    exit()\n",
    "dow_count = dict ()\n",
    "for line in fhand:\n",
    "    if 'From ' not in line or len(line) == 0:\n",
    "        continue\n",
    "    else:\n",
    "        words = line.split()\n",
    "        if words[0] == 'From':\n",
    "            dow_count [words[2]] = dow_count.get(words[2],0) + 1   \n",
    "            \n",
    "print (dow_count)"
   ]
  },
  {
   "cell_type": "markdown",
   "metadata": {},
   "source": [
    "**Exercise 3: Write a program to read through a mail log, build a histogram using\n",
    "a dictionary to count how many messages have come from each email address, and\n",
    "print the dictionary.**\n",
    "\n",
    "Enter file name: mbox-short.txt\n",
    "\n",
    "{'gopal.ramasammycook@gmail.com': 1, 'louis@media.berkeley.edu': 3,\n",
    "'cwen@iupui.edu': 5, 'antranig@caret.cam.ac.uk': 1,\n",
    "'rjlowe@iupui.edu': 2, 'gsilver@umich.edu': 3,\n",
    "'david.horwitz@uct.ac.za': 4, 'wagnermr@iupui.edu': 1,\n",
    "'zqian@umich.edu': 4, 'stephen.marquard@uct.ac.za': 2,\n",
    "'ray@media.berkeley.edu': 1}"
   ]
  },
  {
   "cell_type": "code",
   "execution_count": 5,
   "metadata": {},
   "outputs": [
    {
     "name": "stdout",
     "output_type": "stream",
     "text": [
      "Enter file name: mbox-short.txt\n",
      "{'stephen.marquard@uct.ac.za': 2, 'louis@media.berkeley.edu': 3, 'zqian@umich.edu': 4, 'rjlowe@iupui.edu': 2, 'cwen@iupui.edu': 5, 'gsilver@umich.edu': 3, 'wagnermr@iupui.edu': 1, 'antranig@caret.cam.ac.uk': 1, 'gopal.ramasammycook@gmail.com': 1, 'david.horwitz@uct.ac.za': 4, 'ray@media.berkeley.edu': 1}\n"
     ]
    }
   ],
   "source": [
    "fname = input('Enter file name: ')\n",
    "fhand = open(fname)\n",
    "counts = dict()\n",
    "for line in fhand:\n",
    "    words = line.split()\n",
    "    if len(words) < 3 or  words[0] != 'From' : continue\n",
    "    emails = words[1]\n",
    "    emails = emails.split()\n",
    "    for email in emails :\n",
    "        if email not in counts: \n",
    "            counts[email] = 1\n",
    "        else:\n",
    "            counts[email] +=1\n",
    "print(counts)"
   ]
  },
  {
   "cell_type": "code",
   "execution_count": 6,
   "metadata": {},
   "outputs": [
    {
     "name": "stdout",
     "output_type": "stream",
     "text": [
      "Enter file name: mbox.txt\n",
      "{'stephen.marquard@uct.ac.za': 29, 'louis@media.berkeley.edu': 24, 'zqian@umich.edu': 195, 'rjlowe@iupui.edu': 90, 'cwen@iupui.edu': 158, 'gsilver@umich.edu': 28, 'wagnermr@iupui.edu': 44, 'antranig@caret.cam.ac.uk': 18, 'gopal.ramasammycook@gmail.com': 25, 'david.horwitz@uct.ac.za': 67, 'ray@media.berkeley.edu': 32, 'mmmay@indiana.edu': 161, 'stuart.freeman@et.gatech.edu': 17, 'tnguyen@iupui.edu': 6, 'chmaurer@iupui.edu': 111, 'aaronz@vt.edu': 110, 'ian@caret.cam.ac.uk': 96, 'csev@umich.edu': 19, 'jimeng@umich.edu': 93, 'josrodri@iupui.edu': 28, 'knoop@umich.edu': 5, 'bkirschn@umich.edu': 27, 'dlhaines@umich.edu': 84, 'hu2@iupui.edu': 7, 'sgithens@caret.cam.ac.uk': 43, 'arwhyte@umich.edu': 27, 'gbhatnag@umich.edu': 3, 'gjthomas@iupui.edu': 44, 'a.fish@lancaster.ac.uk': 14, 'ajpoland@iupui.edu': 48, 'lance@indiana.edu': 8, 'ssmail@indiana.edu': 5, 'jlrenfro@ucdavis.edu': 1, 'nuno@ufp.pt': 28, 'zach.thomas@txstate.edu': 17, 'ktsao@stanford.edu': 12, 'ostermmg@whitman.edu': 17, 'john.ellis@rsmart.com': 8, 'jleasia@umich.edu': 2, 'ggolden@umich.edu': 8, 'thoppaymallika@fhda.edu': 1, 'kimsooil@bu.edu': 14, 'bahollad@indiana.edu': 4, 'jzaremba@unicon.net': 9, 'mbreuker@loi.nl': 9, 'colin.clark@utoronto.ca': 1}\n"
     ]
    }
   ],
   "source": []
  },
  {
   "cell_type": "markdown",
   "metadata": {},
   "source": [
    "**Exercise 4: Add code to the above program to figure out who has the most\n",
    "messages in the file.\n",
    "After all the data has been read and the dictionary has been created, look through\n",
    "the dictionary using a maximum loop (see Section [maximumloop]) to find who\n",
    "has the most messages and print how many messages the person has.**\n",
    "\n",
    "Enter a file name: mbox-short.txt\n",
    "\n",
    "cwen@iupui.edu 5\n",
    "\n",
    "\n",
    "Enter a file name: mbox.txt\n",
    "\n",
    "zqian@umich.edu 195"
   ]
  },
  {
   "cell_type": "code",
   "execution_count": 7,
   "metadata": {},
   "outputs": [
    {
     "name": "stdout",
     "output_type": "stream",
     "text": [
      "Enter a file name: mbox-short.txt\n",
      "cwen@iupui.edu 5\n"
     ]
    }
   ],
   "source": [
    "fname = input('Enter a file name: ')\n",
    "fhand = open(fname)\n",
    "counts = dict()\n",
    "counter = -1\n",
    "\n",
    "for line in fhand:\n",
    "    words = line.split()\n",
    "    #print('Debug:', words)\n",
    "    if len(words) < 3 or  words[0] != 'From' : continue\n",
    "    emails = words[1]\n",
    "    emails = emails.split()\n",
    "    for email in emails :\n",
    "        if email not in counts: \n",
    "            counts[email] = 1\n",
    "        else:\n",
    "            counts[email] +=1\n",
    "            \n",
    "for key in counts:\n",
    "    if counts[key] > counter : \n",
    "        counter = counts[key]\n",
    "        name = key\n",
    "        \n",
    "print(name,counter)"
   ]
  },
  {
   "cell_type": "code",
   "execution_count": 8,
   "metadata": {},
   "outputs": [
    {
     "name": "stdout",
     "output_type": "stream",
     "text": [
      "Enter a file name: mbox.txt\n",
      "zqian@umich.edu 195\n"
     ]
    }
   ],
   "source": []
  },
  {
   "cell_type": "markdown",
   "metadata": {},
   "source": [
    "**Exercise 5: This program records the domain name (instead of the address) where\n",
    "the message was sent from instead of who the mail came from (i.e., the whole email\n",
    "address). At the end of the program, print out the contents of your dictionary.**\n",
    "\n",
    "python schoolcount.py\n",
    "\n",
    "Enter a file name: mbox-short.txt\n",
    "\n",
    "{'media.berkeley.edu': 4, 'uct.ac.za': 6, 'umich.edu': 7,\n",
    "'gmail.com': 1, 'caret.cam.ac.uk': 1, 'iupui.edu': 8}"
   ]
  },
  {
   "cell_type": "code",
   "execution_count": 9,
   "metadata": {},
   "outputs": [
    {
     "name": "stdout",
     "output_type": "stream",
     "text": [
      "Enter a file name: mbox-short.txt\n",
      "{'stephen.marquard@uct.ac.za': 29, 'louis@media.berkeley.edu': 24, 'zqian@umich.edu': 195, 'rjlowe@iupui.edu': 90, 'cwen@iupui.edu': 158, 'gsilver@umich.edu': 28, 'wagnermr@iupui.edu': 44, 'antranig@caret.cam.ac.uk': 18, 'gopal.ramasammycook@gmail.com': 25, 'david.horwitz@uct.ac.za': 67, 'ray@media.berkeley.edu': 32, 'mmmay@indiana.edu': 161, 'stuart.freeman@et.gatech.edu': 17, 'tnguyen@iupui.edu': 6, 'chmaurer@iupui.edu': 111, 'aaronz@vt.edu': 110, 'ian@caret.cam.ac.uk': 96, 'csev@umich.edu': 19, 'jimeng@umich.edu': 93, 'josrodri@iupui.edu': 28, 'knoop@umich.edu': 5, 'bkirschn@umich.edu': 27, 'dlhaines@umich.edu': 84, 'hu2@iupui.edu': 7, 'sgithens@caret.cam.ac.uk': 43, 'arwhyte@umich.edu': 27, 'gbhatnag@umich.edu': 3, 'gjthomas@iupui.edu': 44, 'a.fish@lancaster.ac.uk': 14, 'ajpoland@iupui.edu': 48, 'lance@indiana.edu': 8, 'ssmail@indiana.edu': 5, 'jlrenfro@ucdavis.edu': 1, 'nuno@ufp.pt': 28, 'zach.thomas@txstate.edu': 17, 'ktsao@stanford.edu': 12, 'ostermmg@whitman.edu': 17, 'john.ellis@rsmart.com': 8, 'jleasia@umich.edu': 2, 'ggolden@umich.edu': 8, 'thoppaymallika@fhda.edu': 1, 'kimsooil@bu.edu': 14, 'bahollad@indiana.edu': 4, 'jzaremba@unicon.net': 9, 'mbreuker@loi.nl': 9, 'colin.clark@utoronto.ca': 1, 'uct.ac.za': 6, 'media.berkeley.edu': 4, 'umich.edu': 7, 'iupui.edu': 8, 'caret.cam.ac.uk': 1, 'gmail.com': 1}\n"
     ]
    }
   ],
   "source": [
    "fname = input('Enter a file name: ')\n",
    "fhand = open(fname)\n",
    "for line in fhand:\n",
    "    words = line.split()\n",
    "    if len(words) < 3 or  words[0] != 'From' : continue\n",
    "    emails = words[1]\n",
    "    emails = emails.split('@')\n",
    "    unis = emails[1]\n",
    "    unis = unis.split()\n",
    "    for uni in unis :\n",
    "        if uni not in counts: \n",
    "            counts[uni] = 1\n",
    "        else:\n",
    "            counts[uni] +=1\n",
    "print(counts)"
   ]
  },
  {
   "cell_type": "code",
   "execution_count": 10,
   "metadata": {},
   "outputs": [
    {
     "name": "stdout",
     "output_type": "stream",
     "text": [
      "Enter a file name: mbox.txt\n",
      "{'stephen.marquard@uct.ac.za': 29, 'louis@media.berkeley.edu': 24, 'zqian@umich.edu': 195, 'rjlowe@iupui.edu': 90, 'cwen@iupui.edu': 158, 'gsilver@umich.edu': 28, 'wagnermr@iupui.edu': 44, 'antranig@caret.cam.ac.uk': 18, 'gopal.ramasammycook@gmail.com': 25, 'david.horwitz@uct.ac.za': 67, 'ray@media.berkeley.edu': 32, 'mmmay@indiana.edu': 161, 'stuart.freeman@et.gatech.edu': 17, 'tnguyen@iupui.edu': 6, 'chmaurer@iupui.edu': 111, 'aaronz@vt.edu': 110, 'ian@caret.cam.ac.uk': 96, 'csev@umich.edu': 19, 'jimeng@umich.edu': 93, 'josrodri@iupui.edu': 28, 'knoop@umich.edu': 5, 'bkirschn@umich.edu': 27, 'dlhaines@umich.edu': 84, 'hu2@iupui.edu': 7, 'sgithens@caret.cam.ac.uk': 43, 'arwhyte@umich.edu': 27, 'gbhatnag@umich.edu': 3, 'gjthomas@iupui.edu': 44, 'a.fish@lancaster.ac.uk': 14, 'ajpoland@iupui.edu': 48, 'lance@indiana.edu': 8, 'ssmail@indiana.edu': 5, 'jlrenfro@ucdavis.edu': 1, 'nuno@ufp.pt': 28, 'zach.thomas@txstate.edu': 17, 'ktsao@stanford.edu': 12, 'ostermmg@whitman.edu': 17, 'john.ellis@rsmart.com': 8, 'jleasia@umich.edu': 2, 'ggolden@umich.edu': 8, 'thoppaymallika@fhda.edu': 1, 'kimsooil@bu.edu': 14, 'bahollad@indiana.edu': 4, 'jzaremba@unicon.net': 9, 'mbreuker@loi.nl': 9, 'colin.clark@utoronto.ca': 1, 'uct.ac.za': 102, 'media.berkeley.edu': 60, 'umich.edu': 498, 'iupui.edu': 544, 'caret.cam.ac.uk': 158, 'gmail.com': 26, 'indiana.edu': 178, 'et.gatech.edu': 17, 'vt.edu': 110, 'lancaster.ac.uk': 14, 'ucdavis.edu': 1, 'ufp.pt': 28, 'txstate.edu': 17, 'stanford.edu': 12, 'whitman.edu': 17, 'rsmart.com': 8, 'fhda.edu': 1, 'bu.edu': 14, 'unicon.net': 9, 'loi.nl': 9, 'utoronto.ca': 1}\n"
     ]
    }
   ],
   "source": []
  }
 ],
 "metadata": {
  "kernelspec": {
   "display_name": "Python 3",
   "language": "python",
   "name": "python3"
  },
  "language_info": {
   "codemirror_mode": {
    "name": "ipython",
    "version": 3
   },
   "file_extension": ".py",
   "mimetype": "text/x-python",
   "name": "python",
   "nbconvert_exporter": "python",
   "pygments_lexer": "ipython3",
   "version": "3.7.1"
  }
 },
 "nbformat": 4,
 "nbformat_minor": 2
}
