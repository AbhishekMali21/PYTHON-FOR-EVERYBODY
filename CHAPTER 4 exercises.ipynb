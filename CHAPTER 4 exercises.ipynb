{
 "cells": [
  {
   "cell_type": "markdown",
   "metadata": {},
   "source": [
    "**Exercise 1: Run the program on your system and see what numbers you get. Run\n",
    "the program more than once and see what numbers you get.**"
   ]
  },
  {
   "cell_type": "code",
   "execution_count": 1,
   "metadata": {},
   "outputs": [
    {
     "name": "stdout",
     "output_type": "stream",
     "text": [
      "0.46623021035520573\n",
      "0.36271793879404224\n",
      "0.2983425702477942\n",
      "0.20806417866322113\n",
      "0.31823745685247296\n",
      "0.6361736713532494\n",
      "0.8424137701927814\n",
      "0.5944719628624909\n",
      "0.21464571762315\n",
      "0.8722355737800261\n"
     ]
    }
   ],
   "source": [
    "import random\n",
    "\n",
    "for i in range(10):\n",
    "    x = random.random()\n",
    "    print(x)"
   ]
  },
  {
   "cell_type": "code",
   "execution_count": 2,
   "metadata": {},
   "outputs": [
    {
     "name": "stdout",
     "output_type": "stream",
     "text": [
      "0.9694745106946978\n",
      "0.694778048364959\n",
      "0.14850112061281806\n",
      "0.5239040900578961\n",
      "0.8712175204872951\n",
      "0.2044478505427938\n",
      "0.6823563597428748\n",
      "0.3440378824162542\n",
      "0.4895967684697098\n",
      "0.3136267556757787\n"
     ]
    }
   ],
   "source": [
    "import random\n",
    "\n",
    "for i in range(10):\n",
    "    x = random.random()\n",
    "    print(x)"
   ]
  },
  {
   "cell_type": "markdown",
   "metadata": {},
   "source": [
    "**Exercise 2: Move the last line of this program to the top, so the function call\n",
    "appears before the definitions. Run the program and see what error message you\n",
    "get.**"
   ]
  },
  {
   "cell_type": "code",
   "execution_count": 3,
   "metadata": {},
   "outputs": [
    {
     "ename": "NameError",
     "evalue": "name 'repeat_lyrics' is not defined",
     "output_type": "error",
     "traceback": [
      "\u001b[1;31m---------------------------------------------------------------------------\u001b[0m",
      "\u001b[1;31mNameError\u001b[0m                                 Traceback (most recent call last)",
      "\u001b[1;32m<ipython-input-3-934c008b16d6>\u001b[0m in \u001b[0;36m<module>\u001b[1;34m\u001b[0m\n\u001b[0;32m      3\u001b[0m     \u001b[0mprint\u001b[0m\u001b[1;33m(\u001b[0m\u001b[1;34m'I sleep all night and I work all day.'\u001b[0m\u001b[1;33m)\u001b[0m\u001b[1;33m\u001b[0m\u001b[1;33m\u001b[0m\u001b[0m\n\u001b[0;32m      4\u001b[0m \u001b[1;33m\u001b[0m\u001b[0m\n\u001b[1;32m----> 5\u001b[1;33m \u001b[0mrepeat_lyrics\u001b[0m\u001b[1;33m(\u001b[0m\u001b[1;33m)\u001b[0m\u001b[1;33m\u001b[0m\u001b[1;33m\u001b[0m\u001b[0m\n\u001b[0m\u001b[0;32m      6\u001b[0m \u001b[1;33m\u001b[0m\u001b[0m\n\u001b[0;32m      7\u001b[0m \u001b[1;32mdef\u001b[0m \u001b[0mrepeat_lyrics\u001b[0m\u001b[1;33m(\u001b[0m\u001b[1;33m)\u001b[0m\u001b[1;33m:\u001b[0m\u001b[1;33m\u001b[0m\u001b[1;33m\u001b[0m\u001b[0m\n",
      "\u001b[1;31mNameError\u001b[0m: name 'repeat_lyrics' is not defined"
     ]
    }
   ],
   "source": [
    "def print_lyrics():\n",
    "    print(\"I'm a lumberjack, and I'm okay.\")\n",
    "    print('I sleep all night and I work all day.')\n",
    "\n",
    "repeat_lyrics()\n",
    "\n",
    "def repeat_lyrics():\n",
    "    print_lyrics()\n",
    "    print_lyrics()"
   ]
  },
  {
   "cell_type": "markdown",
   "metadata": {},
   "source": [
    "**Exercise 3: Move the function call back to the bottom and move the definition of\n",
    "print_lyrics after the definition of repeat_lyrics. What happens when you\n",
    "run this program?**"
   ]
  },
  {
   "cell_type": "code",
   "execution_count": 4,
   "metadata": {},
   "outputs": [
    {
     "name": "stdout",
     "output_type": "stream",
     "text": [
      "I'm a lumberjack, and I'm okay.\n",
      "I sleep all night and I work all day.\n",
      "I'm a lumberjack, and I'm okay.\n",
      "I sleep all night and I work all day.\n"
     ]
    }
   ],
   "source": [
    "def repeat_lyrics():\n",
    "    print_lyrics()\n",
    "    print_lyrics()\n",
    "\n",
    "repeat_lyrics()\n",
    "\n",
    "def print_lyrics():\n",
    "    print(\"I'm a lumberjack, and I'm okay.\")\n",
    "    print('I sleep all night and I work all day.')"
   ]
  },
  {
   "cell_type": "markdown",
   "metadata": {},
   "source": [
    "**Exercise 4: What is the purpose of the “def” keyword in Python?**\n",
    "\n",
    "a) It is slang that means “the following code is really cool”\n",
    "\n",
    "✅ b) It indicates the start of a function\n",
    "\n",
    "c) It indicates that the following indented section of code is to be stored for later\n",
    "\n",
    "d) b and c are both true\n",
    "\n",
    "e) None of the above"
   ]
  },
  {
   "cell_type": "markdown",
   "metadata": {},
   "source": [
    "**Exercise 5: What will the following Python program print out?**"
   ]
  },
  {
   "cell_type": "code",
   "execution_count": 5,
   "metadata": {},
   "outputs": [
    {
     "name": "stdout",
     "output_type": "stream",
     "text": [
      "ABC\n",
      "Zap\n",
      "ABC\n"
     ]
    }
   ],
   "source": [
    "def fred():\n",
    "    print(\"Zap\")\n",
    "\n",
    "def jane():\n",
    "    print(\"ABC\")\n",
    "\n",
    "jane()\n",
    "fred()\n",
    "jane()"
   ]
  },
  {
   "cell_type": "markdown",
   "metadata": {},
   "source": [
    "a) Zap ABC jane fred jane\n",
    "\n",
    "b) Zap ABC Zap\n",
    "\n",
    "c) ABC Zap jane\n",
    "\n",
    "✅ d) ABC Zap ABC\n",
    "\n",
    "e) Zap Zap Zap"
   ]
  },
  {
   "cell_type": "markdown",
   "metadata": {},
   "source": [
    "**Exercise 6: Rewrite your pay computation with time-and-a-half for overtime and\n",
    "create a function called computepay which takes two parameters (hours and rate).**\n",
    "\n",
    "Enter Hours: 45\n",
    "\n",
    "Enter Rate: 10\n",
    "\n",
    "Pay: 475.0"
   ]
  },
  {
   "cell_type": "code",
   "execution_count": 6,
   "metadata": {},
   "outputs": [
    {
     "name": "stdout",
     "output_type": "stream",
     "text": [
      "Enter Hours: 45\n",
      "Enter Rate: 10\n",
      "Pay:  475.0\n"
     ]
    }
   ],
   "source": [
    "def pay(hours,rate):\n",
    "    if hours > 40:\n",
    "        pay = (40 * rate) + (hours-40) * rate * 1.5\n",
    "    else:\n",
    "        pay = hours * rate\n",
    "    print (\"Pay: \",pay)\n",
    "\n",
    "hours = float (input ('Enter Hours: '))\n",
    "rate = float (input ('Enter Rate: '))\n",
    "pay(hours,rate)"
   ]
  },
  {
   "cell_type": "markdown",
   "metadata": {},
   "source": [
    "**Exercise 7: Rewrite the grade program from the previous chapter using a function\n",
    "called computegrade that takes a score as its parameter and returns a grade as a\n",
    "string.**\n",
    "\n",
    "|Score |Grade|\n",
    "\n",
    "|>= 0.9 |A|\n",
    "\n",
    "|>= 0.8 |B|\n",
    "\n",
    "|>= 0.7 |C|\n",
    "\n",
    "|>= 0.6 |D|\n",
    "\n",
    "|< 0.6 |F|\n",
    "\n",
    "Enter score: 0.95\n",
    "A\n",
    "\n",
    "Enter score: perfect\n",
    "Bad score\n",
    "\n",
    "Enter score: 10.0\n",
    "Bad score\n",
    "\n",
    "Enter score: 0.75\n",
    "C\n",
    "\n",
    "Enter score: 0.5\n",
    "F\n",
    "\n",
    "Run the program repeatedly as shown above to test the various different values for input."
   ]
  },
  {
   "cell_type": "code",
   "execution_count": 7,
   "metadata": {},
   "outputs": [
    {
     "name": "stdout",
     "output_type": "stream",
     "text": [
      "Enter score:0.87\n"
     ]
    },
    {
     "data": {
      "text/plain": [
       "'B'"
      ]
     },
     "execution_count": 7,
     "metadata": {},
     "output_type": "execute_result"
    }
   ],
   "source": [
    "def computegrade(score):\n",
    "    if score >=0.9 and score <= 1.0:\n",
    "        return \"A\"\n",
    "    elif score >=0.8 and score < 0.9:\n",
    "        return \"B\"\n",
    "    elif score >=0.7 and score < 0.8:\n",
    "        return \"C\"\n",
    "    elif score >=0.6 and score < 0.7:\n",
    "        return \"D\"\n",
    "    elif score >=0.0 and score < 0.6:\n",
    "        return \"F\"\n",
    "    else:\n",
    "        return \"Bad score\"\n",
    "\n",
    "score = float (input ('Enter score:'))\n",
    "computegrade(score)"
   ]
  }
 ],
 "metadata": {
  "kernelspec": {
   "display_name": "Python 3",
   "language": "python",
   "name": "python3"
  },
  "language_info": {
   "codemirror_mode": {
    "name": "ipython",
    "version": 3
   },
   "file_extension": ".py",
   "mimetype": "text/x-python",
   "name": "python",
   "nbconvert_exporter": "python",
   "pygments_lexer": "ipython3",
   "version": "3.7.1"
  }
 },
 "nbformat": 4,
 "nbformat_minor": 2
}
