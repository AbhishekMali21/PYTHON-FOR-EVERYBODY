{
 "cells": [
  {
   "cell_type": "markdown",
   "metadata": {},
   "source": [
    "**Exercise 1: Write a program which repeatedly reads numbers until the user enters\n",
    "“done”. Once “done” is entered, print out the total, count, and average of the\n",
    "numbers. If the user enters anything other than a number, detect their mistake\n",
    "using try and except and print an error message and skip to the next number.**\n",
    "\n",
    "Enter a number: 4\n",
    "\n",
    "Enter a number: 5\n",
    "\n",
    "Enter a number: bad data\n",
    "\n",
    "Invalid input\n",
    "\n",
    "Enter a number: 7\n",
    "\n",
    "Enter a number: done\n",
    "\n",
    "16 3 5.333333333333333"
   ]
  },
  {
   "cell_type": "code",
   "execution_count": 1,
   "metadata": {},
   "outputs": [
    {
     "name": "stdout",
     "output_type": "stream",
     "text": [
      "Enter number: 1\n",
      "Enter number: 2\n",
      "Enter number: 3\n",
      "Enter number: 4\n",
      "Enter number: 5\n",
      "Enter number: done\n",
      "Average: 3.0\n",
      "Count: 5\n",
      "Total: 15.0\n"
     ]
    }
   ],
   "source": [
    "avg = 0\n",
    "count = 0\n",
    "total = 0\n",
    "\n",
    "while True:\n",
    "    line = input ('Enter number: ')\n",
    "    try:\n",
    "        if line == \"done\":\n",
    "            print (\"Average: \" + str (avg))\n",
    "            print (\"Count: \" + str (count))\n",
    "            print (\"Total: \" + str (total))\n",
    "            break\n",
    "        \n",
    "        else:\n",
    "            count = count + 1\n",
    "            total = total + float(line)\n",
    "            avg = total / count\n",
    "    except:\n",
    "        print ('Enter only numbers ! !')"
   ]
  },
  {
   "cell_type": "markdown",
   "metadata": {},
   "source": [
    "**Exercise 2: Write another program that prompts for a list of numbers as above\n",
    "and at the end prints out both the maximum and minimum of the numbers instead\n",
    "of the average.**"
   ]
  },
  {
   "cell_type": "code",
   "execution_count": 2,
   "metadata": {},
   "outputs": [
    {
     "name": "stdout",
     "output_type": "stream",
     "text": [
      "Enter number: 1\n",
      "Enter number: 2\n",
      "Enter number: 3\n",
      "Enter number: 4\n",
      "Enter number: 5\n",
      "Enter number: done\n",
      "Maximum: 5.0\n",
      "Minimum: 1.0\n"
     ]
    }
   ],
   "source": [
    "max = None\n",
    "min = None\n",
    "count = 0\n",
    "\n",
    "while True:\n",
    "    prompt = input ('Enter number: ')\n",
    "    if prompt == \"done\":\n",
    "        print (\"Maximum: \" + str(max))\n",
    "        print (\"Minimum: \" + str(min))\n",
    "        break\n",
    "        \n",
    "    else:\n",
    "        try:\n",
    "            if count == 0:\n",
    "                max = float (prompt)\n",
    "                min = float (prompt)\n",
    "                count = 1\n",
    "         \n",
    "            else:\n",
    "                if float (prompt) > max:\n",
    "                    max = float (prompt)\n",
    "                else:\n",
    "                    if float (prompt) < min:\n",
    "                        min = float (prompt)\n",
    "            \n",
    "        except:\n",
    "            print ('Enter only numbers ! ! !')"
   ]
  }
 ],
 "metadata": {
  "kernelspec": {
   "display_name": "Python 3",
   "language": "python",
   "name": "python3"
  },
  "language_info": {
   "codemirror_mode": {
    "name": "ipython",
    "version": 3
   },
   "file_extension": ".py",
   "mimetype": "text/x-python",
   "name": "python",
   "nbconvert_exporter": "python",
   "pygments_lexer": "ipython3",
   "version": "3.7.1"
  }
 },
 "nbformat": 4,
 "nbformat_minor": 2
}
