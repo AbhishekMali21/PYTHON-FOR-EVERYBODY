{
 "cells": [
  {
   "cell_type": "markdown",
   "metadata": {},
   "source": [
    "# CHAPTER 10 exercises"
   ]
  },
  {
   "cell_type": "markdown",
   "metadata": {},
   "source": [
    "**Exercise 1: Revise a previous program as follows: Read and parse the “From”\n",
    "lines and pull out the addresses from the line. Count the number of messages from\n",
    "each person using a dictionary.\n",
    "After all the data has been read, print the person with the most commits by\n",
    "creating a list of (count, email) tuples from the dictionary. Then sort the list in\n",
    "reverse order and print out the person who has the most commits.**\n",
    "\n",
    "Sample Line:\n",
    "\n",
    "From stephen.marquard@uct.ac.za Sat Jan 5 09:14:16 2008\n",
    "\n",
    "Enter a file name: mbox-short.txt\n",
    "\n",
    "cwen@iupui.edu 5\n",
    "\n",
    "Enter a file name: mbox.txt\n",
    "\n",
    "zqian@umich.edu 195"
   ]
  },
  {
   "cell_type": "code",
   "execution_count": 1,
   "metadata": {},
   "outputs": [
    {
     "name": "stdout",
     "output_type": "stream",
     "text": [
      "Enter a file name:mbox-short.txt\n",
      "cwen@iupui.edu 5\n"
     ]
    }
   ],
   "source": [
    "fname = input('Enter a file name:')\n",
    "fhand = open(fname) \n",
    "counts = dict()\n",
    "tmp = list()\n",
    "\n",
    "for line in fhand:\n",
    "    words = line.split()\n",
    "    if len(words) < 3 or  words[0] != 'From' : continue\n",
    "    emails = words[1]\n",
    "    emails = emails.split()\n",
    "    for email in emails :\n",
    "        if email not in counts: \n",
    "            counts[email] = 1\n",
    "        else:\n",
    "            counts[email] +=1\n",
    "            \n",
    "for k, v in counts.items() :\n",
    "    newtup = (v, k)\n",
    "    tmp.append(newtup)\n",
    "\n",
    "tmp = sorted(tmp, reverse=True)\n",
    "for v, k in tmp[:1]:\n",
    "    print(k, v)"
   ]
  },
  {
   "cell_type": "code",
   "execution_count": 2,
   "metadata": {},
   "outputs": [
    {
     "name": "stdout",
     "output_type": "stream",
     "text": [
      "Enter a file name:mbox.txt\n",
      "zqian@umich.edu 195\n"
     ]
    }
   ],
   "source": [
    "fname = input('Enter a file name:')\n",
    "fhand = open(fname) \n",
    "counts = dict()\n",
    "tmp = list()\n",
    "\n",
    "for line in fhand:\n",
    "    words = line.split()\n",
    "    if len(words) < 3 or  words[0] != 'From' : continue\n",
    "    emails = words[1]\n",
    "    emails = emails.split()\n",
    "    for email in emails :\n",
    "        if email not in counts: \n",
    "            counts[email] = 1\n",
    "        else:\n",
    "            counts[email] +=1\n",
    "            \n",
    "for k, v in counts.items() :\n",
    "    newtup = (v, k)\n",
    "    tmp.append(newtup)\n",
    "\n",
    "tmp = sorted(tmp, reverse=True)\n",
    "for v, k in tmp[:1]:\n",
    "    print(k, v)"
   ]
  },
  {
   "cell_type": "markdown",
   "metadata": {},
   "source": [
    "**Exercise 2: This program counts the distribution of the hour of the day for each\n",
    "of the messages. You can pull the hour from the “From” line by finding the time\n",
    "string and then splitting that string into parts using the colon character. Once\n",
    "you have accumulated the counts for each hour, print out the counts, one per line,\n",
    "sorted by hour as shown below.**\n",
    "\n",
    "Sample Execution:\n",
    "\n",
    "python timeofday.py\n",
    "\n",
    "Enter a file name: mbox-short.txt\n",
    "\n",
    "04 3\n",
    "06 1\n",
    "07 1\n",
    "09 2\n",
    "10 3\n",
    "11 6\n",
    "14 1\n",
    "15 2\n",
    "16 4\n",
    "17 2\n",
    "18 1\n",
    "19 1"
   ]
  },
  {
   "cell_type": "code",
   "execution_count": 3,
   "metadata": {},
   "outputs": [
    {
     "name": "stdout",
     "output_type": "stream",
     "text": [
      "Enter a file name:mbox-short.txt\n",
      "04 3\n",
      "06 1\n",
      "07 1\n",
      "09 2\n",
      "10 3\n",
      "11 6\n",
      "14 1\n",
      "15 2\n",
      "16 4\n",
      "17 2\n",
      "18 1\n",
      "19 1\n"
     ]
    }
   ],
   "source": [
    "fname = input('Enter a file name:')\n",
    "fhand = open(fname)\n",
    "counts = dict()\n",
    "tmp = list()\n",
    "\n",
    "for line in fhand:\n",
    "    words = line.split()\n",
    "    if len(words) < 3 or  words[0] != 'From' : continue\n",
    "    time = words[5]\n",
    "    chunks = time.split(':')\n",
    "    hours = chunks[0]\n",
    "    hours = hours.split()\n",
    "    for hour in hours :\n",
    "        if hour not in counts: \n",
    "            counts[hour] = 1\n",
    "        else:\n",
    "            counts[hour] +=1\n",
    "s = sorted(counts.items())\n",
    "\n",
    "for k, v in s:\n",
    "    print(k, v)"
   ]
  },
  {
   "cell_type": "code",
   "execution_count": 4,
   "metadata": {},
   "outputs": [
    {
     "name": "stdout",
     "output_type": "stream",
     "text": [
      "Enter a file name:mbox.txt\n",
      "00 23\n",
      "01 10\n",
      "02 11\n",
      "03 19\n",
      "04 23\n",
      "05 10\n",
      "06 45\n",
      "07 42\n",
      "08 72\n",
      "09 166\n",
      "10 198\n",
      "11 154\n",
      "12 108\n",
      "13 114\n",
      "14 150\n",
      "15 152\n",
      "16 181\n",
      "17 97\n",
      "18 58\n",
      "19 46\n",
      "20 36\n",
      "21 36\n",
      "22 28\n",
      "23 18\n"
     ]
    }
   ],
   "source": [
    "fname = input('Enter a file name:')\n",
    "fhand = open(fname)\n",
    "counts = dict()\n",
    "tmp = list()\n",
    "\n",
    "for line in fhand:\n",
    "    words = line.split()\n",
    "    if len(words) < 3 or  words[0] != 'From' : continue\n",
    "    time = words[5]\n",
    "    chunks = time.split(':')\n",
    "    hours = chunks[0]\n",
    "    hours = hours.split()\n",
    "    for hour in hours :\n",
    "        if hour not in counts: \n",
    "            counts[hour] = 1\n",
    "        else:\n",
    "            counts[hour] +=1\n",
    "s = sorted(counts.items())\n",
    "\n",
    "for k, v in s:\n",
    "    print(k, v)"
   ]
  },
  {
   "cell_type": "markdown",
   "metadata": {},
   "source": [
    "**Exercise 3: Write a program that reads a file and prints the letters in decreasing\n",
    "order of frequency. Your program should convert all the input to lower case and\n",
    "only count the letters a-z. Your program should not count spaces, digits, punctuation,\n",
    "or anything other than the letters a-z. Find text samples from several different\n",
    "languages and see how letter frequency varies between languages. Compare your\n",
    "results with the tables at wikipedia.org/wiki/Letter_frequencies.**"
   ]
  },
  {
   "cell_type": "code",
   "execution_count": 5,
   "metadata": {},
   "outputs": [
    {
     "name": "stdout",
     "output_type": "stream",
     "text": [
      "Enter the file name: mbox-short.txt\n",
      "5436 e\n",
      "5223 a\n",
      "4494 i\n",
      "4174 o\n",
      "4064 r\n",
      "4050 t\n",
      "3738 s\n",
      "3123 u\n",
      "3088 c\n",
      "2575 n\n",
      "2497 p\n",
      "2436 m\n",
      "2004 d\n",
      "1832 l\n",
      "1392 h\n",
      "1257 f\n",
      "1167 k\n",
      "1134 b\n",
      "1027 g\n",
      "997 v\n",
      "959 j\n",
      "643 y\n",
      "586 w\n",
      "482 x\n",
      "78 z\n",
      "57 q\n",
      "26\n"
     ]
    }
   ],
   "source": [
    "import string\n",
    "fname = input('Enter the file name: ')\n",
    "try:\n",
    "    fhand = open(fname, encoding='utf8')\n",
    "except:\n",
    "    print('File cannot be opened:', fname)\n",
    "    exit()\n",
    "counts = dict()\n",
    "\n",
    "for line in fhand:\n",
    "    line = line.translate(str.maketrans('', '', string.punctuation))\n",
    "    line = line.lower()\n",
    "    words = line.split()\n",
    "    for x in words:\n",
    "        word = x.split()\n",
    "        word = word [0]\n",
    "        for y in range (0 , len(word)):\n",
    "            letter = word[y]\n",
    "            if letter.isalpha() == True:\n",
    "                counts [letter] = counts.get(letter,0) + 1\n",
    "\n",
    "lst = list()\n",
    "for ltr, count in list(counts.items()):\n",
    "    lst.append((count, ltr))\n",
    "    \n",
    "lst.sort(reverse=True)\n",
    "\n",
    "for count, ltr in lst:\n",
    "    print(count, ltr)\n",
    "\n",
    "#sanity check : how many letters\n",
    "print (len(lst))"
   ]
  }
 ],
 "metadata": {
  "kernelspec": {
   "display_name": "Python 3",
   "language": "python",
   "name": "python3"
  },
  "language_info": {
   "codemirror_mode": {
    "name": "ipython",
    "version": 3
   },
   "file_extension": ".py",
   "mimetype": "text/x-python",
   "name": "python",
   "nbconvert_exporter": "python",
   "pygments_lexer": "ipython3",
   "version": "3.7.1"
  }
 },
 "nbformat": 4,
 "nbformat_minor": 2
}
