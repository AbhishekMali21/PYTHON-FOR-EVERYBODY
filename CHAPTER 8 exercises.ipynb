{
 "cells": [
  {
   "cell_type": "markdown",
   "metadata": {},
   "source": [
    "# CHAPTER 8 exercises"
   ]
  },
  {
   "cell_type": "markdown",
   "metadata": {},
   "source": [
    "**Exercise 1:\n",
    "Write a function called chop that takes a list and modifies it, removing the first\n",
    "and last elements, and returns None.**\n",
    "\n",
    "**Then write a function called middle that takes a list and returns a new list that\n",
    "contains all but the first and last elements.**"
   ]
  },
  {
   "cell_type": "code",
   "execution_count": 1,
   "metadata": {},
   "outputs": [
    {
     "name": "stdout",
     "output_type": "stream",
     "text": [
      "[2, 3, 4, 5, 6]\n",
      "None\n"
     ]
    }
   ],
   "source": [
    "x = [1, 2, 3, 4, 5, 6, 7]\n",
    "\n",
    "def chop(x):\n",
    "    del x[0]\n",
    "    del x[-1]\n",
    "\n",
    "chop(x)\n",
    "print(x)\n",
    "print(chop(x))"
   ]
  },
  {
   "cell_type": "code",
   "execution_count": 2,
   "metadata": {},
   "outputs": [
    {
     "name": "stdout",
     "output_type": "stream",
     "text": [
      "[2, 3, 4, 5, 6]\n"
     ]
    }
   ],
   "source": [
    "x = [1, 2, 3, 4, 5, 6, 7]\n",
    "\n",
    "def middle(x):\n",
    "    return(x[1:-1])\n",
    "\n",
    "print(middle(x))"
   ]
  },
  {
   "cell_type": "markdown",
   "metadata": {},
   "source": [
    "**Exercise 2: Figure out which line of the above program is still not properly guarded.\n",
    "See if you can construct a text file which causes the program to fail and then modify\n",
    "the program so that the line is properly guarded and test it to make sure it handles\n",
    "your new text file.**"
   ]
  },
  {
   "cell_type": "markdown",
   "metadata": {},
   "source": [
    "fhand = open('mbox-short.txt')\n",
    "\n",
    "count = 0\n",
    "\n",
    "for line in fhand:\n",
    "\n",
    "words = line.split()\n",
    "\n",
    "    # print 'Debug:', words\n",
    "    if len(words) == 0 : continue\n",
    "    if words[0] != 'From' : continue\n",
    "    print(words[2])"
   ]
  },
  {
   "cell_type": "code",
   "execution_count": 3,
   "metadata": {},
   "outputs": [
    {
     "name": "stdout",
     "output_type": "stream",
     "text": [
      "Sat\n",
      "Fri\n",
      "Fri\n",
      "Fri\n",
      "Fri\n",
      "Fri\n",
      "Fri\n",
      "Fri\n",
      "Fri\n",
      "Fri\n",
      "Fri\n",
      "Fri\n",
      "Fri\n",
      "Fri\n",
      "Fri\n",
      "Fri\n",
      "Fri\n",
      "Fri\n",
      "Fri\n",
      "Fri\n",
      "Fri\n",
      "Thu\n",
      "Thu\n",
      "Thu\n",
      "Thu\n",
      "Thu\n",
      "Thu\n"
     ]
    }
   ],
   "source": [
    "fhand = open('mbox-short.txt') \n",
    "count = 0\n",
    "for line in fhand:\n",
    "    words = line.split()\n",
    "    #print('Debug:', words)\n",
    "    if len(words) > 2:\n",
    "        if words[0] == 'From':\n",
    "            print(words[2])"
   ]
  },
  {
   "cell_type": "markdown",
   "metadata": {},
   "source": [
    "**Exercise 3: Rewrite the guardian code in the above example without two if statements.\n",
    "Instead, use a compound logical expression using the and logical operator\n",
    "with a single if statement.**"
   ]
  },
  {
   "cell_type": "code",
   "execution_count": 4,
   "metadata": {},
   "outputs": [
    {
     "name": "stdout",
     "output_type": "stream",
     "text": [
      "Sat\n",
      "Fri\n",
      "Fri\n",
      "Fri\n",
      "Fri\n",
      "Fri\n",
      "Fri\n",
      "Fri\n",
      "Fri\n",
      "Fri\n",
      "Fri\n",
      "Fri\n",
      "Fri\n",
      "Fri\n",
      "Fri\n",
      "Fri\n",
      "Fri\n",
      "Fri\n",
      "Fri\n",
      "Fri\n",
      "Fri\n",
      "Thu\n",
      "Thu\n",
      "Thu\n",
      "Thu\n",
      "Thu\n",
      "Thu\n"
     ]
    }
   ],
   "source": [
    "fhand = open('mbox-short.txt') \n",
    "count = 0\n",
    "for line in fhand:\n",
    "    words = line.split()\n",
    "    #print('Debug:', words)\n",
    "    if len(words) > 2 and words[0] == 'From': \n",
    "        print(words[2])"
   ]
  },
  {
   "cell_type": "markdown",
   "metadata": {},
   "source": [
    "**Exercise 4: Download a copy of the file from www.py4e.com/code3/romeo.txt**\n",
    "\n",
    "**Write a program to open the file romeo.txt and read it line by line. For each line,\n",
    "split the line into a list of words using the split function.**\n",
    "\n",
    "**For each word, check to see if the word is already in a list. If the word is not in\n",
    "the list, add it to the list.**\n",
    "\n",
    "**When the program completes, sort and print the resulting words in alphabetical\n",
    "order.**"
   ]
  },
  {
   "cell_type": "markdown",
   "metadata": {},
   "source": [
    "Enter file: romeo.txt\n",
    "\n",
    "['Arise','But', 'It', 'Juliet', 'Who', 'already','and', 'breaks', 'east', 'envious', 'fair', 'grief',\n",
    "'is', 'kill', 'light', 'moon', 'pale', 'sick', 'soft','sun', 'the', 'through', 'what', 'window','with', 'yonder']"
   ]
  },
  {
   "cell_type": "code",
   "execution_count": 5,
   "metadata": {},
   "outputs": [
    {
     "name": "stdout",
     "output_type": "stream",
     "text": [
      "['Arise', 'But', 'It', 'Juliet', 'Who', 'already', 'and', 'breaks', 'east', 'envious', 'fair', 'grief', 'is', 'kill', 'light', 'moon', 'pale', 'sick', 'soft', 'sun', 'the', 'through', 'what', 'window', 'with', 'yonder']\n"
     ]
    }
   ],
   "source": [
    "fhand = open('romeo.txt')\n",
    "count = 0\n",
    "word_list = []\n",
    "for line in fhand:\n",
    "    words = line.split()\n",
    "    for word in words:\n",
    "        if word in word_list:\n",
    "            continue\n",
    "        else:\n",
    "            word_list.append(word)\n",
    "word_list.sort ()\n",
    "print (word_list)"
   ]
  },
  {
   "cell_type": "markdown",
   "metadata": {},
   "source": [
    "**Exercise 5: Write a program to read through the mail box data and when you\n",
    "find line that starts with “From”, you will split the line into words using the split\n",
    "function. We are interested in who sent the message, which is the second word on\n",
    "the From line.**\n",
    "\n",
    "From stephen.marquard@uct.ac.za Sat Jan 5 09:14:16 2008\n",
    "\n",
    "**You will parse the From line and print out the second word for each From line,\n",
    "then you will also count the number of From (not From:) lines and print out a\n",
    "count at the end.**\n",
    "\n",
    "**This is a good sample output with a few lines removed:**"
   ]
  },
  {
   "cell_type": "markdown",
   "metadata": {},
   "source": [
    "python fromcount.py\n",
    "Enter a file name: mbox-short.txt\n",
    "stephen.marquard@uct.ac.za\n",
    "louis@media.berkeley.edu\n",
    "zqian@umich.edu\n",
    "\n",
    "[...some output removed...]\n",
    "\n",
    "ray@media.berkeley.edu\n",
    "cwen@iupui.edu\n",
    "cwen@iupui.edu\n",
    "cwen@iupui.edu\n",
    "There were 27 lines in the file with From as the first word"
   ]
  },
  {
   "cell_type": "code",
   "execution_count": 6,
   "metadata": {},
   "outputs": [
    {
     "name": "stdout",
     "output_type": "stream",
     "text": [
      "stephen.marquard@uct.ac.za\n",
      "louis@media.berkeley.edu\n",
      "zqian@umich.edu\n",
      "rjlowe@iupui.edu\n",
      "zqian@umich.edu\n",
      "rjlowe@iupui.edu\n",
      "cwen@iupui.edu\n",
      "cwen@iupui.edu\n",
      "gsilver@umich.edu\n",
      "gsilver@umich.edu\n",
      "zqian@umich.edu\n",
      "gsilver@umich.edu\n",
      "wagnermr@iupui.edu\n",
      "zqian@umich.edu\n",
      "antranig@caret.cam.ac.uk\n",
      "gopal.ramasammycook@gmail.com\n",
      "david.horwitz@uct.ac.za\n",
      "david.horwitz@uct.ac.za\n",
      "david.horwitz@uct.ac.za\n",
      "david.horwitz@uct.ac.za\n",
      "stephen.marquard@uct.ac.za\n",
      "louis@media.berkeley.edu\n",
      "louis@media.berkeley.edu\n",
      "ray@media.berkeley.edu\n",
      "cwen@iupui.edu\n",
      "cwen@iupui.edu\n",
      "cwen@iupui.edu\n",
      "There were 27 lines in the file with From as the first word\n"
     ]
    }
   ],
   "source": [
    "fhand = open('mbox-short.txt')\n",
    "count = 0\n",
    "for line in fhand:\n",
    "    if 'From ' not in line or len(line) == 0:\n",
    "        continue\n",
    "    else:\n",
    "        words = line.split()\n",
    "        if words[0] == 'From':\n",
    "            #print ('Debug:', words)\n",
    "            print(words [1])\n",
    "            count = count + 1\n",
    "        \n",
    "print ('There were ' + str(count) + ' lines in the file with From as the first word')"
   ]
  },
  {
   "cell_type": "markdown",
   "metadata": {},
   "source": [
    "**Exercise 6: Rewrite the program that prompts the user for a list of numbers and\n",
    "prints out the maximum and minimum of the numbers at the end when the user\n",
    "enters “done”. Write the program to store the numbers the user enters in a list\n",
    "and use the max() and min() functions to compute the maximum and minimum\n",
    "numbers after the loop completes.**"
   ]
  },
  {
   "cell_type": "markdown",
   "metadata": {},
   "source": [
    "Enter a number: 6\n",
    "\n",
    "Enter a number: 2\n",
    "\n",
    "Enter a number: 9\n",
    "\n",
    "Enter a number: 3\n",
    "\n",
    "Enter a number: 5\n",
    "\n",
    "Enter a number: done\n",
    "\n",
    "Maximum: 9.0\n",
    "\n",
    "Minimum: 2.0"
   ]
  },
  {
   "cell_type": "code",
   "execution_count": 7,
   "metadata": {},
   "outputs": [
    {
     "name": "stdout",
     "output_type": "stream",
     "text": [
      "Enter a number: 6\n",
      "Enter a number: 2\n",
      "Enter a number: 9\n",
      "Enter a number: 3\n",
      "Enter a number: 5\n",
      "Enter a number: done\n",
      "Maximum: 9.0\n",
      "Minimum: 2.0\n"
     ]
    }
   ],
   "source": [
    "numlist = list()\n",
    "while (True):\n",
    "    inp = input('Enter a number: ')\n",
    "    try:\n",
    "        if inp == 'done': \n",
    "            break\n",
    "        value = float(inp)\n",
    "        numlist.append(value)\n",
    "\n",
    "    except:\n",
    "        print ('Not a number!')\n",
    "\n",
    "print ('Maximum: '+str(max(numlist)))\n",
    "print ('Minimum: '+str(min(numlist)))"
   ]
  }
 ],
 "metadata": {
  "kernelspec": {
   "display_name": "Python 3",
   "language": "python",
   "name": "python3"
  },
  "language_info": {
   "codemirror_mode": {
    "name": "ipython",
    "version": 3
   },
   "file_extension": ".py",
   "mimetype": "text/x-python",
   "name": "python",
   "nbconvert_exporter": "python",
   "pygments_lexer": "ipython3",
   "version": "3.7.1"
  }
 },
 "nbformat": 4,
 "nbformat_minor": 2
}
