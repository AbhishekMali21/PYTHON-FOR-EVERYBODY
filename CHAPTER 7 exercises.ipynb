{
 "cells": [
  {
   "cell_type": "markdown",
   "metadata": {},
   "source": [
    "# CHAPTER 7 - Exercises"
   ]
  },
  {
   "cell_type": "markdown",
   "metadata": {},
   "source": [
    "**Exercise 1: Write a program to read through a file and print the contents of the\n",
    "file (line by line) all in upper case. Executing the program will look as follows**"
   ]
  },
  {
   "cell_type": "markdown",
   "metadata": {},
   "source": [
    "python shout.py\n",
    "Enter a file name: mbox-short.txt\n",
    "FROM STEPHEN.MARQUARDUCT.AC.ZA SAT JAN 5 09:14:16 2008\n",
    "RETURN-PATH: <POSTMASTERCOLLABSAKAIPROJECTORG>\n",
    "RECEIVED: FROM MURDER (MAIL.UMICH.EDU [141.211.14.90])\n",
    "BY FRANKENSTEIN.MAIL.UMICH.EDU (CYRUS V2.3.8) WITH LMTPA;\n",
    "SAT, 05 JAN 2008 09:14:16 -0500"
   ]
  },
  {
   "cell_type": "code",
   "execution_count": 1,
   "metadata": {},
   "outputs": [
    {
     "name": "stdout",
     "output_type": "stream",
     "text": [
      "1 WHY SHOULD YOU LEARN TO WRITE PROGRAMS? 2 VARIABLES, EXPRESSIONS, AND STATEMENTS 3 CONDITIONAL EXECUTION 4 FUNCTIONS 5 ITERATION 6 STRINGS 7 FILES 8 LISTS 9 DICTIONARIES 10 TUPLES 11 REGULAR EXPRESSIONS 12 NETWORKED PROGRAMS 13 USING WEB SERVICES 14 OBJECT-ORIENTED PROGRAMMING 15 USING DATABASES AND SQL\n"
     ]
    }
   ],
   "source": [
    "fhand = open('word.txt')\n",
    "for line in fhand:\n",
    "    stripped = line.rstrip()\n",
    "    print(stripped.upper())"
   ]
  },
  {
   "cell_type": "markdown",
   "metadata": {},
   "source": [
    "**Exercise 2: Write a program to prompt for a file name, and then read through the\n",
    "file and look for lines of the form:**\n",
    "\n",
    "X-DSPAM-Confidence:0.8475\n",
    "\n",
    "**When you encounter a line that starts with “X-DSPAM-Confidence:” pull apart\n",
    "the line to extract the floating-point number on the line. Count these lines and\n",
    "then compute the total of the spam confidence values from these lines. When you\n",
    "reach the end of the file, print out the average spam confidence.**"
   ]
  },
  {
   "cell_type": "markdown",
   "metadata": {},
   "source": [
    "Enter the file name: mbox.txt\n",
    "Average spam confidence: 0.894128046745\n",
    "\n",
    "Enter the file name: mbox-short.txt\n",
    "Average spam confidence: 0.750718518519\n",
    "\n",
    "Test your file on the mbox.txt and mbox-short.txt files"
   ]
  },
  {
   "cell_type": "code",
   "execution_count": 2,
   "metadata": {},
   "outputs": [
    {
     "name": "stdout",
     "output_type": "stream",
     "text": [
      "Enter the file name: hi\n",
      "File cannot be opened: hi\n"
     ]
    }
   ],
   "source": [
    "fname = input('Enter the file name: ')\n",
    "try:\n",
    "    fhand = open(fname)\n",
    "    count = 0\n",
    "    spam_running = 0\n",
    "    for line in fhand:\n",
    "        line = line.rstrip()\n",
    "        if line.startswith('X-DSPAM-Confidence:'):\n",
    "            count = count + 1\n",
    "            pos = line.find(':')\n",
    "            float_line = float(line[pos+1:])\n",
    "            spam_running = spam_running + float_line\n",
    "    spam_average = spam_running/count\n",
    "    print('Average spam confidence: ', spam_average)\n",
    "except:\n",
    "    print('File cannot be opened:', fname)"
   ]
  },
  {
   "cell_type": "code",
   "execution_count": 3,
   "metadata": {},
   "outputs": [
    {
     "name": "stdout",
     "output_type": "stream",
     "text": [
      "Enter the file name: mbox.txt\n",
      "Average spam confidence:  0.8941280467445736\n"
     ]
    }
   ],
   "source": []
  },
  {
   "cell_type": "code",
   "execution_count": 4,
   "metadata": {},
   "outputs": [
    {
     "name": "stdout",
     "output_type": "stream",
     "text": [
      "Enter the file name: mbox-short.txt\n",
      "Average spam confidence:  0.7507185185185187\n"
     ]
    }
   ],
   "source": []
  },
  {
   "cell_type": "markdown",
   "metadata": {},
   "source": [
    "**Exercise 3: Sometimes when programmers get bored or want to have a bit of fun,\n",
    "they add a harmless Easter Egg to their program Modify the program that prompts\n",
    "the user for the file name so that it prints a funny message when the user types in\n",
    "the exact file name “na na boo boo”. The program should behave normally for all\n",
    "other files which exist and don’t exist. Here is a sample execution of the program:**"
   ]
  },
  {
   "cell_type": "markdown",
   "metadata": {},
   "source": [
    "python egg.py\n",
    "Enter the file name: mbox.txt\n",
    "There were 1797 subject lines in mbox.txt\n",
    "\n",
    "python egg.py\n",
    "Enter the file name: missing.tyxt\n",
    "File cannot be opened: missing.tyxt\n",
    "\n",
    "python egg.py\n",
    "Enter the file name: na na boo boo\n",
    "NA NA BOO BOO TO YOU - You have been punk'd!"
   ]
  },
  {
   "cell_type": "code",
   "execution_count": 5,
   "metadata": {},
   "outputs": [
    {
     "name": "stdout",
     "output_type": "stream",
     "text": [
      "Enter the file name: na na boo boo\n",
      "NA NA BOO BOO TO YOU - You have been punk'd!\n"
     ]
    }
   ],
   "source": [
    "fname = input('Enter the file name: ')\n",
    "if fname == ('na na boo boo'):\n",
    "    print(\"NA NA BOO BOO TO YOU - You have been punk'd!\")\n",
    "else: \n",
    "    try:\n",
    "        fhand = open(fname)\n",
    "    except:\n",
    "        print('File cannot be opened:', fname)\n",
    "        exit()\n",
    "    count = 0\n",
    "    spam_running = 0\n",
    "    for line in fhand:\n",
    "        line = line.rstrip()\n",
    "        if line.startswith('X-DSPAM-Confidence:'):\n",
    "            count = count + 1\n",
    "            pos = line.find(':')\n",
    "            float_line = float(line[pos+1:])\n",
    "            spam_running = spam_running + float_line\n",
    "    spam_average = spam_running/count\n",
    "    print('You have ', count, ' files')\n",
    "    print('The average spam confidence is ', spam_average)"
   ]
  },
  {
   "cell_type": "code",
   "execution_count": 6,
   "metadata": {},
   "outputs": [
    {
     "name": "stdout",
     "output_type": "stream",
     "text": [
      "Enter the file name: mbox.txt\n",
      "You have  1797  files\n",
      "The average spam confidence is  0.8941280467445736\n"
     ]
    }
   ],
   "source": []
  },
  {
   "cell_type": "code",
   "execution_count": 7,
   "metadata": {},
   "outputs": [
    {
     "name": "stdout",
     "output_type": "stream",
     "text": [
      "Enter the file name: mbox-short.txt\n",
      "You have  27  files\n",
      "The average spam confidence is  0.7507185185185187\n"
     ]
    }
   ],
   "source": []
  }
 ],
 "metadata": {
  "kernelspec": {
   "display_name": "Python 3",
   "language": "python",
   "name": "python3"
  },
  "language_info": {
   "codemirror_mode": {
    "name": "ipython",
    "version": 3
   },
   "file_extension": ".py",
   "mimetype": "text/x-python",
   "name": "python",
   "nbconvert_exporter": "python",
   "pygments_lexer": "ipython3",
   "version": "3.7.1"
  }
 },
 "nbformat": 4,
 "nbformat_minor": 2
}
